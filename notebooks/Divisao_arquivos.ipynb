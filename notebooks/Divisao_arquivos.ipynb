{
 "cells": [
  {
   "cell_type": "code",
   "execution_count": 12,
   "metadata": {},
   "outputs": [],
   "source": [
    "import numpy as np\n",
    "import pandas as pd\n",
    "import os"
   ]
  },
  {
   "cell_type": "code",
   "execution_count": 13,
   "metadata": {},
   "outputs": [],
   "source": [
    "DIST_EPI = '../datasets/distribuicao_epi.csv'\n",
    "DIST_RESPIRADORES = '../datasets/distribuicao_respiradores.csv'\n",
    "DIST_ANESTESICOS = '../datasets/DistribuicaoAnestesicosBloqueadores.csv'\n",
    "DIST_MEDICACAO = '../datasets/DistribuicaoCloroquinaOseltamivir.csv'\n",
    "LEITO_OCUPACAO_DATASET = '../datasets/esus-vepi.LeitoOcupacao.csv'"
   ]
  },
  {
   "cell_type": "code",
   "execution_count": 14,
   "metadata": {},
   "outputs": [],
   "source": [
    "def Selecionar_Estados(df, label):\n",
    "    lista_estados = []\n",
    "    for item , value in df.groupby(label):\n",
    "        if(item != '-'):\n",
    "            lista_estados.append(item)\n",
    "    lista_estados = list(set(lista_estados))  \n",
    "    return lista_estados"
   ]
  },
  {
   "cell_type": "code",
   "execution_count": 15,
   "metadata": {},
   "outputs": [],
   "source": [
    "def Separar_arquivo(df, pasta, lista_estados, label):\n",
    "    for estado in lista_estados:\n",
    "        is_estate = df.loc[:, label] == estado\n",
    "        data = df.loc[is_estate]\n",
    "        os.makedirs(pasta, exist_ok=True)\n",
    "        data.to_csv(pasta + estado + '.csv')\n",
    "    print('Arquivos gerados...')\n",
    "        #print(i)\n",
    "    #data.to_csv('../datasets_estados/distribuicao_respiradores/AC.csv')\n",
    "        "
   ]
  },
  {
   "cell_type": "markdown",
   "metadata": {},
   "source": [
    "**Distribução de Respiradores**"
   ]
  },
  {
   "cell_type": "code",
   "execution_count": 16,
   "metadata": {},
   "outputs": [
    {
     "name": "stdout",
     "output_type": "stream",
     "text": [
      "32\n",
      "Arquivos gerados...\n"
     ]
    }
   ],
   "source": [
    "label = 'DESTINO'\n",
    "data_respiradores = pd.read_csv(DIST_RESPIRADORES, encoding = \"ISO-8859-1\", delimiter=';')\n",
    "data_respiradores[label] = data_respiradores[label].apply(lambda x: x.strip())\n",
    "Destino = Selecionar_Estados(data_respiradores,label)\n",
    "print(len(Destino))\n",
    "Separar_arquivo(data_respiradores, '../datasets_estados/distribuicao_respiradores/', Destino, label)"
   ]
  },
  {
   "cell_type": "markdown",
   "metadata": {},
   "source": [
    "**Distribução de EPI**"
   ]
  },
  {
   "cell_type": "code",
   "execution_count": 17,
   "metadata": {},
   "outputs": [
    {
     "name": "stdout",
     "output_type": "stream",
     "text": [
      "Arquivos gerados...\n"
     ]
    }
   ],
   "source": [
    "#Label da columna recuperada\n",
    "label = 'ESTADO'\n",
    "data_anastesicos = pd.read_csv(DIST_ANESTESICOS, encoding = \"ISO-8859-1\", delimiter=';')\n",
    "data_anastesicos[label] =  data_anastesicos[label].apply(lambda x: x.strip())\n",
    "Estados = Selecionar_Estados(data_anastesicos, label)\n",
    "Separar_arquivo(data_anastesicos, '../datasets_estados/DistribuicaoAnestesicosBloqueadores/', Estados, label)"
   ]
  },
  {
   "cell_type": "markdown",
   "metadata": {},
   "source": [
    "**Distribução de Anastesicos**"
   ]
  },
  {
   "cell_type": "code",
   "execution_count": 18,
   "metadata": {},
   "outputs": [
    {
     "name": "stdout",
     "output_type": "stream",
     "text": [
      "Arquivos gerados...\n"
     ]
    }
   ],
   "source": [
    "label = 'Requisitante / Destino'\n",
    "data_EPI = pd.read_csv(DIST_EPI, encoding = \"ISO-8859-1\", delimiter=';')\n",
    "data_EPI[label] = data_EPI[label].apply(lambda x: x.strip())\n",
    "Estado_ = Selecionar_Estados(data_EPI,label)\n",
    "Separar_arquivo(data_EPI, '../datasets_estados/distribuicao_EPI/', Estado_, label)"
   ]
  },
  {
   "cell_type": "markdown",
   "metadata": {},
   "source": [
    "**Distribução de Leitos**"
   ]
  },
  {
   "cell_type": "code",
   "execution_count": 19,
   "metadata": {},
   "outputs": [
    {
     "name": "stderr",
     "output_type": "stream",
     "text": [
      "/Users/felipemfp/.local/share/virtualenvs/kdd-covid19-brazil-V6RyWlkX/lib/python3.8/site-packages/IPython/core/interactiveshell.py:3165: DtypeWarning: Columns (2) have mixed types.Specify dtype option on import or set low_memory=False.\n",
      "  has_raised = await self.run_ast_nodes(code_ast.body, cell_name,\n"
     ]
    },
    {
     "name": "stdout",
     "output_type": "stream",
     "text": [
      "Arquivos gerados...\n"
     ]
    }
   ],
   "source": [
    "label = 'municipio'\n",
    "data_leitos = pd.read_csv(LEITO_OCUPACAO_DATASET, encoding = \"UTF-8\", delimiter=',')\n",
    "#data_leitos[label] = data_leitos[label].apply(lambda x: x.strip())\n",
    "Municipios = ['Campinas','Campo Grande','Duque De Caxias','Guarulhos','Maceió','Natal','Nova Iguaçu','São Gonçalo','São Luís','Teresina']\n",
    "Separar_arquivo(data_leitos, '../datasets_estados/esus-vepi.LeitoOcupacao/', Municipios, label)"
   ]
  },
  {
   "cell_type": "markdown",
   "metadata": {},
   "source": [
    "**Distribução de Medicamentos**"
   ]
  },
  {
   "cell_type": "code",
   "execution_count": 24,
   "metadata": {},
   "outputs": [
    {
     "name": "stdout",
     "output_type": "stream",
     "text": [
      "Arquivos gerados...\n"
     ]
    }
   ],
   "source": [
    "label='LOCALIDADE'\n",
    "data_medicamentos = pd.read_csv(DIST_MEDICACAO, delimiter=';')\n",
    "Municipios = ['Campinas','Campo Grande','Duque De Caxias','Guarulhos','Maceió','Natal','Nova Iguaçu','São Gonçalo','São Luís','Teresina']\n",
    "Separar_arquivo(data_medicamentos, '../datasets_estados/DistribucaoMedicamentos/', Municipios, label)"
   ]
  },
  {
   "cell_type": "code",
   "execution_count": null,
   "metadata": {},
   "outputs": [],
   "source": []
  }
 ],
 "metadata": {
  "celltoolbar": "Raw Cell Format",
  "kernelspec": {
   "display_name": "Python 3",
   "language": "python",
   "name": "python3"
  },
  "language_info": {
   "codemirror_mode": {
    "name": "ipython",
    "version": 3
   },
   "file_extension": ".py",
   "mimetype": "text/x-python",
   "name": "python",
   "nbconvert_exporter": "python",
   "pygments_lexer": "ipython3",
   "version": "3.8.5"
  }
 },
 "nbformat": 4,
 "nbformat_minor": 4
}
